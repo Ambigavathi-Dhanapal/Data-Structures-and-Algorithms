{
 "cells": [
  {
   "cell_type": "markdown",
   "metadata": {},
   "source": [
    "## 1. O(1) - Constant Time"
   ]
  },
  {
   "cell_type": "code",
   "execution_count": 8,
   "metadata": {},
   "outputs": [
    {
     "name": "stdout",
     "output_type": "stream",
     "text": [
      "Time Complexity: O(1), Space Complexity: O(1)\n",
      "Accessing the first element: 1\n",
      "Time taken: 0.0002920628 seconds\n",
      "Approximate space taken: 148 bytes\n"
     ]
    },
    {
     "data": {
      "text/plain": [
       "1"
      ]
     },
     "execution_count": 8,
     "metadata": {},
     "output_type": "execute_result"
    }
   ],
   "source": [
    "import time\n",
    "import sys\n",
    "\n",
    "def get_first_element(arr):\n",
    "    start_time = time.time()\n",
    "    print(\"Time Complexity: O(1), Space Complexity: O(1)\")\n",
    "    element = arr[0]\n",
    "    time_taken = time.time() - start_time\n",
    "    space_taken = sys.getsizeof(arr) + sys.getsizeof(element)\n",
    "    print(f\"Accessing the first element: {element}\")\n",
    "    print(f\"Time taken: {time_taken:.10f} seconds\")\n",
    "    print(f\"Approximate space taken: {space_taken} bytes\")\n",
    "    return element\n",
    "\n",
    "arr = [1, 2, 3, 4, 5]\n",
    "get_first_element(arr)\n"
   ]
  },
  {
   "cell_type": "markdown",
   "metadata": {},
   "source": [
    "## 2. O(log n) - Logarithmic Time"
   ]
  },
  {
   "cell_type": "code",
   "execution_count": 9,
   "metadata": {},
   "outputs": [
    {
     "name": "stdout",
     "output_type": "stream",
     "text": [
      "Time Complexity: O(log n), Space Complexity: O(1)\n",
      "Checking middle element: 5\n",
      "Checking middle element: 8\n",
      "Checking middle element: 6\n",
      "Checking middle element: 7\n",
      "Time taken: 0.0002949238 seconds\n",
      "Approximate space taken: 236 bytes\n"
     ]
    },
    {
     "data": {
      "text/plain": [
       "6"
      ]
     },
     "execution_count": 9,
     "metadata": {},
     "output_type": "execute_result"
    }
   ],
   "source": [
    "import time\n",
    "import sys\n",
    "\n",
    "def binary_search(arr, target):\n",
    "    start_time = time.time()\n",
    "    print(\"Time Complexity: O(log n), Space Complexity: O(1)\")\n",
    "    left, right = 0, len(arr) - 1\n",
    "    while left <= right:\n",
    "        mid = (left + right) // 2\n",
    "        print(f\"Checking middle element: {arr[mid]}\")\n",
    "        if arr[mid] == target:\n",
    "            time_taken = time.time() - start_time\n",
    "            space_taken = sys.getsizeof(arr) + sys.getsizeof(left) + sys.getsizeof(right) + sys.getsizeof(mid)\n",
    "            print(f\"Time taken: {time_taken:.10f} seconds\")\n",
    "            print(f\"Approximate space taken: {space_taken} bytes\")\n",
    "            return mid\n",
    "        elif arr[mid] < target:\n",
    "            left = mid + 1\n",
    "        else:\n",
    "            right = mid - 1\n",
    "    time_taken = time.time() - start_time\n",
    "    space_taken = sys.getsizeof(arr) + sys.getsizeof(left) + sys.getsizeof(right)\n",
    "    print(f\"Time taken: {time_taken:.10f} seconds\")\n",
    "    print(f\"Approximate space taken: {space_taken} bytes\")\n",
    "    return -1\n",
    "\n",
    "arr = [1, 2, 3, 4, 5, 6, 7, 8, 9, 10]\n",
    "binary_search(arr, 7)\n"
   ]
  },
  {
   "cell_type": "markdown",
   "metadata": {},
   "source": [
    "## 3. O(n) - Linear Time"
   ]
  },
  {
   "cell_type": "code",
   "execution_count": 10,
   "metadata": {},
   "outputs": [
    {
     "name": "stdout",
     "output_type": "stream",
     "text": [
      "Time Complexity: O(n), Space Complexity: O(1)\n",
      "Checking number: 1\n",
      "Checking number: 3\n",
      "Checking number: 5\n",
      "Checking number: 2\n",
      "Checking number: 8\n",
      "Checking number: 4\n",
      "Time taken: 0.0002782345 seconds\n",
      "Approximate space taken: 180 bytes\n"
     ]
    },
    {
     "data": {
      "text/plain": [
       "8"
      ]
     },
     "execution_count": 10,
     "metadata": {},
     "output_type": "execute_result"
    }
   ],
   "source": [
    "import time\n",
    "import sys\n",
    "\n",
    "def find_max(arr):\n",
    "    start_time = time.time()\n",
    "    print(\"Time Complexity: O(n), Space Complexity: O(1)\")\n",
    "    max_value = arr[0]\n",
    "    for num in arr:\n",
    "        print(f\"Checking number: {num}\")\n",
    "        if num > max_value:\n",
    "            max_value = num\n",
    "    time_taken = time.time() - start_time\n",
    "    space_taken = sys.getsizeof(arr) + sys.getsizeof(max_value)\n",
    "    print(f\"Time taken: {time_taken:.10f} seconds\")\n",
    "    print(f\"Approximate space taken: {space_taken} bytes\")\n",
    "    return max_value\n",
    "\n",
    "arr = [1, 3, 5, 2, 8, 4]\n",
    "find_max(arr)\n"
   ]
  },
  {
   "cell_type": "markdown",
   "metadata": {},
   "source": [
    "## 4. O(n log n) - Linearithmic Time"
   ]
  },
  {
   "cell_type": "code",
   "execution_count": 11,
   "metadata": {},
   "outputs": [
    {
     "name": "stdout",
     "output_type": "stream",
     "text": [
      "Time Complexity: O(n log n), Space Complexity: O(n)\n",
      "Merging: [3, 5]\n",
      "Merging: [4, 8]\n",
      "Merging: [3, 4, 5, 8]\n",
      "Merging: [2, 7]\n",
      "Merging: [1, 6]\n",
      "Merging: [1, 2, 6, 7]\n",
      "Merging: [1, 2, 3, 4, 5, 6, 7, 8]\n",
      "Sorted array: [1, 2, 3, 4, 5, 6, 7, 8]\n",
      "Time taken: 0.0003809929 seconds\n",
      "Approximate space taken: 344 bytes\n"
     ]
    }
   ],
   "source": [
    "import time\n",
    "import sys\n",
    "\n",
    "def merge_sort(arr):\n",
    "    if len(arr) <= 1:\n",
    "        return arr\n",
    "    mid = len(arr) // 2\n",
    "    left = merge_sort(arr[:mid])\n",
    "    right = merge_sort(arr[mid:])\n",
    "    return merge(left, right)\n",
    "\n",
    "def merge(left, right):\n",
    "    result = []\n",
    "    i = j = 0\n",
    "    while i < len(left) and j < len(right):\n",
    "        if left[i] < right[j]:\n",
    "            result.append(left[i])\n",
    "            i += 1\n",
    "        else:\n",
    "            result.append(right[j])\n",
    "            j += 1\n",
    "    result.extend(left[i:])\n",
    "    result.extend(right[j:])\n",
    "    print(f\"Merging: {result}\")\n",
    "    return result\n",
    "\n",
    "arr = [5, 3, 8, 4, 2, 7, 1, 6]\n",
    "start_time = time.time()\n",
    "print(\"Time Complexity: O(n log n), Space Complexity: O(n)\")\n",
    "sorted_arr = merge_sort(arr)\n",
    "time_taken = time.time() - start_time\n",
    "space_taken = sys.getsizeof(arr) + sum(sys.getsizeof(x) for x in sorted_arr)\n",
    "print(f\"Sorted array: {sorted_arr}\")\n",
    "print(f\"Time taken: {time_taken:.10f} seconds\")\n",
    "print(f\"Approximate space taken: {space_taken} bytes\")\n"
   ]
  },
  {
   "cell_type": "markdown",
   "metadata": {},
   "source": [
    "## 5. O(n²) - Quadratic Time"
   ]
  },
  {
   "cell_type": "code",
   "execution_count": 12,
   "metadata": {},
   "outputs": [
    {
     "name": "stdout",
     "output_type": "stream",
     "text": [
      "Time Complexity: O(n²), Space Complexity: O(1)\n",
      "Comparing 5 and 3\n",
      "Comparing 5 and 8\n",
      "Comparing 8 and 4\n",
      "Comparing 8 and 2\n",
      "Comparing 8 and 7\n",
      "Comparing 8 and 1\n",
      "Comparing 8 and 6\n",
      "Comparing 3 and 5\n",
      "Comparing 5 and 4\n",
      "Comparing 5 and 2\n",
      "Comparing 5 and 7\n",
      "Comparing 7 and 1\n",
      "Comparing 7 and 6\n",
      "Comparing 3 and 4\n",
      "Comparing 4 and 2\n",
      "Comparing 4 and 5\n",
      "Comparing 5 and 1\n",
      "Comparing 5 and 6\n",
      "Comparing 3 and 2\n",
      "Comparing 3 and 4\n",
      "Comparing 4 and 1\n",
      "Comparing 4 and 5\n",
      "Comparing 2 and 3\n",
      "Comparing 3 and 1\n",
      "Comparing 3 and 4\n",
      "Comparing 2 and 1\n",
      "Comparing 2 and 3\n",
      "Comparing 1 and 2\n",
      "Time taken: 0.0004160404 seconds\n",
      "Approximate space taken: 148 bytes\n"
     ]
    },
    {
     "data": {
      "text/plain": [
       "[1, 2, 3, 4, 5, 6, 7, 8]"
      ]
     },
     "execution_count": 12,
     "metadata": {},
     "output_type": "execute_result"
    }
   ],
   "source": [
    "import time\n",
    "import sys\n",
    "\n",
    "def bubble_sort(arr):\n",
    "    start_time = time.time()\n",
    "    print(\"Time Complexity: O(n²), Space Complexity: O(1)\")\n",
    "    n = len(arr)\n",
    "    for i in range(n):\n",
    "        for j in range(0, n-i-1):\n",
    "            print(f\"Comparing {arr[j]} and {arr[j+1]}\")\n",
    "            if arr[j] > arr[j+1]:\n",
    "                arr[j], arr[j+1] = arr[j+1], arr[j]\n",
    "    time_taken = time.time() - start_time\n",
    "    space_taken = sys.getsizeof(arr) + sys.getsizeof(n)\n",
    "    print(f\"Time taken: {time_taken:.10f} seconds\")\n",
    "    print(f\"Approximate space taken: {space_taken} bytes\")\n",
    "    return arr\n",
    "\n",
    "arr = [5, 3, 8, 4, 2, 7, 1, 6]\n",
    "bubble_sort(arr)\n"
   ]
  },
  {
   "cell_type": "markdown",
   "metadata": {},
   "source": [
    "## 6. O(n³) - Cubic Time"
   ]
  },
  {
   "cell_type": "code",
   "execution_count": 13,
   "metadata": {},
   "outputs": [
    {
     "name": "stdout",
     "output_type": "stream",
     "text": [
      "Time Complexity: O(n³), Space Complexity: O(n²)\n",
      "Resultant matrix: [[19, 22], [43, 50]]\n",
      "Time taken: 0.0002942085 seconds\n",
      "Approximate space taken: 232 bytes\n"
     ]
    },
    {
     "data": {
      "text/plain": [
       "[[19, 22], [43, 50]]"
      ]
     },
     "execution_count": 13,
     "metadata": {},
     "output_type": "execute_result"
    }
   ],
   "source": [
    "import time\n",
    "import sys\n",
    "\n",
    "def matrix_multiply(A, B):\n",
    "    start_time = time.time()\n",
    "    print(\"Time Complexity: O(n³), Space Complexity: O(n²)\")\n",
    "    n = len(A)\n",
    "    result = [[0] * n for _ in range(n)]\n",
    "    for i in range(n):\n",
    "        for j in range(n):\n",
    "            for k in range(n):\n",
    "                result[i][j] += A[i][k] * B[k][j]\n",
    "    time_taken = time.time() - start_time\n",
    "    space_taken = sys.getsizeof(A) + sys.getsizeof(B) + sys.getsizeof(result)\n",
    "    print(f\"Resultant matrix: {result}\")\n",
    "    print(f\"Time taken: {time_taken:.10f} seconds\")\n",
    "    print(f\"Approximate space taken: {space_taken} bytes\")\n",
    "    return result\n",
    "\n",
    "A = [[1, 2], [3, 4]]\n",
    "B = [[5, 6], [7, 8]]\n",
    "matrix_multiply(A, B)\n"
   ]
  }
 ],
 "metadata": {
  "kernelspec": {
   "display_name": "Python 3",
   "language": "python",
   "name": "python3"
  },
  "language_info": {
   "codemirror_mode": {
    "name": "ipython",
    "version": 3
   },
   "file_extension": ".py",
   "mimetype": "text/x-python",
   "name": "python",
   "nbconvert_exporter": "python",
   "pygments_lexer": "ipython3",
   "version": "3.9.6"
  }
 },
 "nbformat": 4,
 "nbformat_minor": 2
}
