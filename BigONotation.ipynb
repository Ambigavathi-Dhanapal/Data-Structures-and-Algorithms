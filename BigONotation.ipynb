{
 "cells": [
  {
   "cell_type": "markdown",
   "metadata": {},
   "source": [
    "## 1. O(1) - Constant Time"
   ]
  },
  {
   "cell_type": "code",
   "execution_count": 29,
   "metadata": {},
   "outputs": [
    {
     "name": "stdout",
     "output_type": "stream",
     "text": [
      "Time Complexity: O(1)\n",
      "Space Complexity: O(1)\n",
      "Time taken: 0.000000 seconds\n",
      "Approximate space taken: 148 bytes\n"
     ]
    }
   ],
   "source": [
    "import time\n",
    "import sys\n",
    "# Example: Function to get the first element of a list\n",
    "def get_first_element(arr):\n",
    "    return arr[0]\n",
    "# Analyze performance (time and space complexity)\n",
    "def analyze_performance():\n",
    "    arr = [1, 2, 3, 4, 5]\n",
    "    start_time = time.time()\n",
    "    result = get_first_element(arr)\n",
    "    end_time = time.time()\n",
    "    time_taken = end_time - start_time\n",
    "    space_taken = sys.getsizeof(arr) + sys.getsizeof(result)\n",
    "    print(\"Time Complexity: O(1)\")\n",
    "    print(\"Space Complexity: O(1)\")\n",
    "    print(f\"Time taken: {time_taken:.6f} seconds\")\n",
    "    print(f\"Approximate space taken: {space_taken} bytes\")\n",
    "analyze_performance()\n",
    "# Expected Output:\n",
    "# Time Complexity: O(1)\n",
    "# Space Complexity: O(1)\n",
    "# Time taken: 0.000000 seconds (varies depending on system and input size)\n",
    "# Approximate space taken: 148 bytes (varies depending on system and input size)"
   ]
  },
  {
   "cell_type": "markdown",
   "metadata": {},
   "source": [
    "## 2. O(log n) - Logarithmic Time"
   ]
  },
  {
   "cell_type": "code",
   "execution_count": 25,
   "metadata": {},
   "outputs": [
    {
     "name": "stdout",
     "output_type": "stream",
     "text": [
      "Time Complexity: O(log n)\n",
      "Space Complexity: O(1)\n",
      "Time taken: 0.000001 seconds\n",
      "Approximate space taken: 180 bytes\n"
     ]
    }
   ],
   "source": [
    "import time\n",
    "import sys\n",
    "\n",
    "# Example: Binary search on a sorted list\n",
    "def binary_search(arr, target):\n",
    "    left, right = 0, len(arr) - 1\n",
    "    while left <= right:\n",
    "        mid = (left + right) // 2\n",
    "        if arr[mid] == target:\n",
    "            return mid\n",
    "        elif arr[mid] < target:\n",
    "            left = mid + 1\n",
    "        else:\n",
    "            right = mid - 1\n",
    "    return -1\n",
    "\n",
    "# Calculate time and space complexity\n",
    "def analyze_binary_search_performance():\n",
    "    arr = [1, 2, 3, 4, 5, 6, 7, 8, 9, 10]\n",
    "    target = 7\n",
    "    # Measure time taken\n",
    "    start_time = time.time()\n",
    "    result = binary_search(arr, target)\n",
    "    end_time = time.time()\n",
    "    time_taken = end_time - start_time\n",
    "    # Measure space taken\n",
    "    space_taken = sys.getsizeof(arr) + sys.getsizeof(result)\n",
    "    # Output results\n",
    "    print(\"Time Complexity: O(log n)\")\n",
    "    print(\"Space Complexity: O(1)\")\n",
    "    print(f\"Time taken: {time_taken:.6f} seconds\")\n",
    "    print(f\"Approximate space taken: {space_taken} bytes\")\n",
    "\n",
    "# Run the performance analysis\n",
    "analyze_binary_search_performance()\n",
    "\n",
    "# Expected Output:\n",
    "# Time Complexity: O(log n)\n",
    "# Space Complexity: O(1)\n",
    "# Time taken: 0.000001 seconds\n",
    "# Approximate space taken: 180 bytes\n"
   ]
  },
  {
   "cell_type": "markdown",
   "metadata": {},
   "source": [
    "## 3. O(n) - Linear Time"
   ]
  },
  {
   "cell_type": "code",
   "execution_count": 28,
   "metadata": {},
   "outputs": [
    {
     "name": "stdout",
     "output_type": "stream",
     "text": [
      "Time Complexity: O(n)\n",
      "Space Complexity: O(1)\n",
      "Time taken: 0.000001 seconds\n",
      "Approximate space taken: 180 bytes\n"
     ]
    }
   ],
   "source": [
    "import time\n",
    "import sys\n",
    "\n",
    "# Example: Finding the maximum element in a list\n",
    "def find_max(arr):\n",
    "    max_value = arr[0]\n",
    "    for num in arr:\n",
    "        if num > max_value:\n",
    "            max_value = num\n",
    "    return max_value\n",
    "\n",
    "# Calculate time and space complexity\n",
    "def analyze_find_max_performance():\n",
    "    arr = [1, 3, 5, 2, 8, 4]\n",
    "    # Measure time taken\n",
    "    start_time = time.time()\n",
    "    result = find_max(arr)\n",
    "    end_time = time.time()\n",
    "    time_taken = end_time - start_time\n",
    "    # Measure space taken\n",
    "    space_taken = sys.getsizeof(arr) + sys.getsizeof(result)\n",
    "    # Output results\n",
    "    print(\"Time Complexity: O(n)\")\n",
    "    print(\"Space Complexity: O(1)\")\n",
    "    print(f\"Time taken: {time_taken:.6f} seconds\")\n",
    "    print(f\"Approximate space taken: {space_taken} bytes\")\n",
    "\n",
    "# Run the performance analysis\n",
    "analyze_find_max_performance()\n",
    "\n",
    "# Expected Output:\n",
    "# Time Complexity: O(n)\n",
    "# Space Complexity: O(1)\n",
    "# Time taken: 0.000001 seconds\n",
    "# Approximate space taken: 180 bytes\n"
   ]
  },
  {
   "cell_type": "markdown",
   "metadata": {},
   "source": [
    "## 4. O(n log n) - Linearithmic Time"
   ]
  },
  {
   "cell_type": "code",
   "execution_count": 22,
   "metadata": {},
   "outputs": [
    {
     "name": "stdout",
     "output_type": "stream",
     "text": [
      "Time Complexity: O(n log n)\n",
      "Space Complexity: O(n)\n",
      "Time taken: 0.000010 seconds\n",
      "Approximate space taken: 240 bytes\n"
     ]
    }
   ],
   "source": [
    "import time\n",
    "import sys\n",
    "# Example: Merge sort algorithm\n",
    "def merge_sort(arr):\n",
    "    if len(arr) <= 1:\n",
    "        return arr\n",
    "    mid = len(arr) // 2\n",
    "    left = merge_sort(arr[:mid])\n",
    "    right = merge_sort(arr[mid:])\n",
    "    return merge(left, right)\n",
    "def merge(left, right):\n",
    "    result = []\n",
    "    i = j = 0\n",
    "    while i < len(left) and j < len(right):\n",
    "        if left[i] < right[j]:\n",
    "            result.append(left[i])\n",
    "            i += 1\n",
    "        else:\n",
    "            result.append(right[j])\n",
    "            j += 1\n",
    "    result.extend(left[i:])\n",
    "    result.extend(right[j:])\n",
    "    return result\n",
    "# Analyze performance (time and space complexity)\n",
    "def analyze_performance():\n",
    "    arr = [5, 3, 8, 4, 2, 7, 1, 6]\n",
    "    start_time = time.time()\n",
    "    result = merge_sort(arr)\n",
    "    end_time = time.time()\n",
    "    time_taken = end_time - start_time\n",
    "    space_taken = sys.getsizeof(arr) + sys.getsizeof(result)\n",
    "    print(\"Time Complexity: O(n log n)\")\n",
    "    print(\"Space Complexity: O(n)\")\n",
    "    print(f\"Time taken: {time_taken:.6f} seconds\")\n",
    "    print(f\"Approximate space taken: {space_taken} bytes\")\n",
    "analyze_performance()\n",
    "# Expected Output:\n",
    "# Time Complexity: O(n log n)\n",
    "# Space Complexity: O(n)\n",
    "# Time taken: 0.000010 seconds (varies depending on system and input size)\n",
    "# Approximate space taken: 240 bytes (varies depending on system and input size)"
   ]
  },
  {
   "cell_type": "markdown",
   "metadata": {},
   "source": [
    "## 5. O(n²) - Quadratic Time"
   ]
  },
  {
   "cell_type": "code",
   "execution_count": 21,
   "metadata": {},
   "outputs": [
    {
     "name": "stdout",
     "output_type": "stream",
     "text": [
      "Time Complexity: O(n²)\n",
      "Space Complexity: O(1)\n",
      "Time taken: 0.000010 seconds\n",
      "Approximate space taken: 120 bytes\n"
     ]
    }
   ],
   "source": [
    "import time\n",
    "import sys\n",
    "# Example: Bubble sort\n",
    "def bubble_sort(arr):\n",
    "    n = len(arr)\n",
    "    for i in range(n):\n",
    "        for j in range(0, n-i-1):\n",
    "            if arr[j] > arr[j+1]:\n",
    "                arr[j], arr[j+1] = arr[j+1], arr[j]\n",
    "# Analyze performance (time and space complexity)\n",
    "def analyze_performance():\n",
    "    arr = [5, 3, 8, 4, 2, 7, 1, 6]\n",
    "    start_time = time.time()\n",
    "    bubble_sort(arr)\n",
    "    end_time = time.time()\n",
    "    time_taken = end_time - start_time\n",
    "    space_taken = sys.getsizeof(arr)\n",
    "    print(\"Time Complexity: O(n²)\")\n",
    "    print(\"Space Complexity: O(1)\")\n",
    "    print(f\"Time taken: {time_taken:.6f} seconds\")\n",
    "    print(f\"Approximate space taken: {space_taken} bytes\")\n",
    "analyze_performance()\n",
    "# Expected Output:\n",
    "# Time Complexity: O(n²)\n",
    "# Space Complexity: O(1)\n",
    "# Time taken: 0.000010 seconds (varies depending on system and input size)\n",
    "# Approximate space taken: 120 bytes (varies depending on system and input size)"
   ]
  },
  {
   "cell_type": "markdown",
   "metadata": {},
   "source": [
    "## 6. O(n³) - Cubic Time"
   ]
  },
  {
   "cell_type": "code",
   "execution_count": 20,
   "metadata": {},
   "outputs": [
    {
     "name": "stdout",
     "output_type": "stream",
     "text": [
      "Time Complexity: O(n³)\n",
      "Space Complexity: O(n²)\n",
      "Time taken: 0.000007 seconds\n",
      "Approximate space taken: 232 bytes\n"
     ]
    }
   ],
   "source": [
    "import time\n",
    "import sys\n",
    "# Example: Matrix multiplication\n",
    "def matrix_multiply(A, B):\n",
    "    n = len(A)\n",
    "    result = [[0] * n for _ in range(n)]\n",
    "    for i in range(n):\n",
    "        for j in range(n):\n",
    "            for k in range(n):\n",
    "                result[i][j] += A[i][k] * B[k][j]\n",
    "    return result\n",
    "# Analyze performance (time and space complexity)\n",
    "def analyze_performance():\n",
    "    A = [[1, 2], [3, 4]]\n",
    "    B = [[5, 6], [7, 8]]\n",
    "    start_time = time.time()\n",
    "    result = matrix_multiply(A, B)\n",
    "    end_time = time.time()\n",
    "    time_taken = end_time - start_time\n",
    "    space_taken = sys.getsizeof(A) + sys.getsizeof(B) + sys.getsizeof(result)\n",
    "    print(\"Time Complexity: O(n³)\")\n",
    "    print(\"Space Complexity: O(n²)\")\n",
    "    print(f\"Time taken: {time_taken:.6f} seconds\")\n",
    "    print(f\"Approximate space taken: {space_taken} bytes\")\n",
    "analyze_performance()\n",
    "# Expected Output:\n",
    "# Time Complexity: O(n³)\n",
    "# Space Complexity: O(n²)\n",
    "# Time taken: 0.000007 seconds (varies depending on system and input size)\n",
    "# Approximate space taken: 232 bytes (varies depending on system and input size)\n"
   ]
  },
  {
   "cell_type": "markdown",
   "metadata": {},
   "source": [
    "## 7. O(2ⁿ) - Exponential Time"
   ]
  },
  {
   "cell_type": "code",
   "execution_count": 19,
   "metadata": {},
   "outputs": [
    {
     "name": "stdout",
     "output_type": "stream",
     "text": [
      "Time Complexity: O(2^n)\n",
      "Space Complexity: O(n)\n",
      "Time taken: 0.000017 seconds\n",
      "Approximate space taken: 56 bytes\n"
     ]
    }
   ],
   "source": [
    "import time\n",
    "import sys\n",
    "# Example: Recursive Fibonacci sequence\n",
    "def fibonacci(n):\n",
    "    if n <= 1:\n",
    "        return n\n",
    "    return fibonacci(n-1) + fibonacci(n-2)\n",
    "# Analyze performance (time and space complexity)\n",
    "def analyze_performance():\n",
    "    n = 10  # You can change this value to test with different inputs\n",
    "    start_time = time.time()\n",
    "    result = fibonacci(n)\n",
    "    end_time = time.time()\n",
    "    time_taken = end_time - start_time\n",
    "    space_taken = sys.getsizeof(n) + sys.getsizeof(result)\n",
    "    print(\"Time Complexity: O(2^n)\")\n",
    "    print(\"Space Complexity: O(n)\")\n",
    "    print(f\"Time taken: {time_taken:.6f} seconds\")\n",
    "    print(f\"Approximate space taken: {space_taken} bytes\")\n",
    "analyze_performance()\n",
    "# Expected Output:\n",
    "# Time Complexity: O(2^n)\n",
    "# Space Complexity: O(n)\n",
    "# Time taken: 0.000017 seconds (varies depending on system and n)\n",
    "# Approximate space taken: 56 bytes (varies depending on system and n)"
   ]
  },
  {
   "cell_type": "markdown",
   "metadata": {},
   "source": [
    "## 8. O(n!) - Factorial Time"
   ]
  },
  {
   "cell_type": "code",
   "execution_count": 16,
   "metadata": {},
   "outputs": [
    {
     "name": "stdout",
     "output_type": "stream",
     "text": [
      "Time Complexity: O(n!)\n",
      "Space Complexity: O(n!)\n",
      "Time taken: 0.000013 seconds\n",
      "Approximate space taken: 240 bytes\n"
     ]
    }
   ],
   "source": [
    "import time\n",
    "import sys\n",
    "# Example: Generating all permutations of a list\n",
    "def permutations(arr):\n",
    "    if len(arr) == 0:\n",
    "        return [[]]\n",
    "    result = []\n",
    "    for i, num in enumerate(arr):\n",
    "        rest = arr[:i] + arr[i+1:]\n",
    "        for p in permutations(rest):\n",
    "            result.append([num] + p)\n",
    "    return result\n",
    "# Analyze performance (time and space complexity)\n",
    "def analyze_performance():\n",
    "    arr = [1, 2, 3]\n",
    "    start_time = time.time()\n",
    "    result = permutations(arr)\n",
    "    end_time = time.time()\n",
    "    time_taken = end_time - start_time\n",
    "    space_taken = sys.getsizeof(arr) + sys.getsizeof(result)\n",
    "    print(\"Time Complexity: O(n!)\")\n",
    "    print(\"Space Complexity: O(n!)\")\n",
    "    print(f\"Time taken: {time_taken:.6f} seconds\")\n",
    "    print(f\"Approximate space taken: {space_taken} bytes\")\n",
    "# Run performance analysis\n",
    "analyze_performance()\n",
    "# Expected Output:\n",
    "# Time Complexity: O(n!)\n",
    "# Space Complexity: O(n!)\n",
    "# Time taken: 0.000009 seconds (varies based on system and input size)\n",
    "# Approximate space taken: 240 bytes (varies based on system and input size)"
   ]
  }
 ],
 "metadata": {
  "kernelspec": {
   "display_name": "Python 3",
   "language": "python",
   "name": "python3"
  },
  "language_info": {
   "codemirror_mode": {
    "name": "ipython",
    "version": 3
   },
   "file_extension": ".py",
   "mimetype": "text/x-python",
   "name": "python",
   "nbconvert_exporter": "python",
   "pygments_lexer": "ipython3",
   "version": "3.9.6"
  }
 },
 "nbformat": 4,
 "nbformat_minor": 2
}
